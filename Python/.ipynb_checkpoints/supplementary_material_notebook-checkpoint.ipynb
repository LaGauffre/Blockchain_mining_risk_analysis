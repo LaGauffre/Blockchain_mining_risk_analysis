{
 "cells": [
  {
   "cell_type": "markdown",
   "metadata": {},
   "source": [
    "# Python code to reproduce the plots of section 4.3 of the paper entiltled \"On the profitability of selfish blockchain mining under consideration of ruin \""
   ]
  },
  {
   "cell_type": "code",
   "execution_count": null,
   "metadata": {},
   "outputs": [],
   "source": [
    "%config InlineBackend.figure_format = 'retina'\n",
    "%run -i ./revenue_protocol.py\n",
    "%run -i ./revenue_selfish.py\n",
    "%run -i ./revenue_selfish_eyal_sirer.py\n",
    "\n",
    "# Importation of the time series\n",
    "π_BTC_data = pd.read_csv(\"BTC_USD_2013-10-01_2020-05-23-CoinDesk.csv\")\n",
    "tW_data = pd.read_csv(\"elec_consumption_BTC_CBECI.csv\")\n",
    "\n",
    "# Date reformating\n",
    "π_BTC_data['Date2'] = pd.to_datetime(π_BTC_data['Date'])\n",
    "tW_data['Date'] = pd.to_datetime(tW_data['Date and Time'])\n",
    "π_BTC_df = π_BTC_data[['Date2','Closing Price (USD)']].rename(columns={\"Date2\": \"Date\", \"Closing Price (USD)\": \"π_BTC\"})\n",
    "tW_df = tW_data[['Date','GUESS']].rename(columns={\"GUESS\": \"tW\"})\n",
    "# Date considered\n",
    "Date = '2020-01-01'\n",
    "# Operational cost of the network\n",
    "W =  tW_df.tW[tW_df.Date == Date].values[0] * 10**9 / 365.25 / 24\n",
    "print('On January 1, 2020')\n",
    "print('The network consumes ' + str(tW_df.tW[tW_df.Date == Date].values[0]) + ' tW per year')  \n",
    "print('The network consumes ' + str(W) + ' kW per hour')  \n",
    "# Block reward\n",
    "n_BTC, π_BTC = 12.5, π_BTC_df.π_BTC[π_BTC_df.Date == '2020-01-01'].values[0]\n",
    "b = n_BTC * π_BTC\n",
    "print('The BTC price is $' + str(π_BTC) )\n",
    "print('The reward for finding a block amount to $' + str(b) )\n",
    "\n",
    "# Intensity of the Poisson process\n",
    "λ = 6\n",
    "print('The time unit is the hour so λ = ' + str(λ))\n",
    "\n",
    "# Plot parameters\n",
    "fontsize_axes = 18.0\n",
    "fontsize_ticker = 16.0\n",
    "rg = Generator(PCG64(123))\n"
   ]
  },
  {
   "cell_type": "markdown",
   "metadata": {},
   "source": [
    "The goal of the supplementary material is to compare the ruin probabilities and expected surplus of miners implementing Eyal and Sirer selfish mining strategy and the simplified version we study in the paper \"On the profitability of selfish blockchain mining under the consideration of ruin\". Note that we modified the initial strategy to uphold the Marvian nature of the risk process which allowed us in turn to derive closed form expressions for the quantities. "
   ]
  },
  {
   "cell_type": "code",
   "execution_count": null,
   "metadata": {},
   "outputs": [],
   "source": [
    "λ, t, p, q =6, 12, 0.01 , 0.5\n",
    "denom = 1+2*p-p**2\n",
    "p_U = [(1+p*(1-p)+p*(1-p)**2*(1-q))/denom, (p*q*(1-p)**2)/denom, (p**2+p**2*(1-p))/denom]\n",
    "  \n",
    "print('The net benefit condition holds if the price is smaller than '\n",
    "      + str(np.around(λ * b / W, decimals = 3))+\n",
    "      ' when following the protocol')\n",
    "print('The net benefit condition holds if the price is smaller than '\n",
    "      + str(np.around(b*λ*(p_U[1]+2*p_U[2]) / W / p , decimals = 3))+\n",
    "      ' when mining selfishly')"
   ]
  },
  {
   "cell_type": "code",
   "execution_count": null,
   "metadata": {},
   "outputs": [],
   "source": [
    "V_AG_df = pd.read_csv(\"../Maple/V_selfish_data_ES.csv\", header = 0)\n",
    "rp_AG_df = pd.read_csv(\"../Maple/rp_selfish_data_ES.csv\", header = 0).rename(columns = {'&Psi;_T': 'ψ_T'})\n"
   ]
  },
  {
   "cell_type": "markdown",
   "metadata": {},
   "source": [
    "Code to generate the data to check that our results are consistent with MC simulations "
   ]
  },
  {
   "cell_type": "code",
   "execution_count": null,
   "metadata": {},
   "outputs": [],
   "source": [
    "π_W = 0.03\n",
    "u_vec = np.arange(10000, 1000000, 50000) # Sequence of initial reserves\n",
    "rg, K = Generator(PCG64(123)), 10000 #Number of sample path\n",
    "Z_0 = 0\n",
    "ψ_V_MC_df = pd.DataFrame()\n",
    "p_seq = [0.01, 0.1, 0.25, 0.4]\n",
    "t_seq = [24, 24*7, 24*14]\n",
    "for t in t_seq:\n",
    "    for p in p_seq:\n",
    "        c = p * π_W * W \n",
    "        sim_data = sim_data_self_T_ES(t, λ, p, q, Z_0, K, rg)\n",
    "        res_T = [V_T_self_MC_ES(u, t, λ, p, q, b, c, sim_data) for u in u_vec]\n",
    "        res_ES = np.array([res_T[k]['ES_selfish'] for k in range(len(res_T))])\n",
    "        res_AG = np.array([res_T[k]['AG_selfish'] for k in range(len(res_T))])\n",
    "\n",
    "        ψ_V_MC_AG = pd.DataFrame({'u':u_vec,\n",
    "                            'strategy':np.repeat(\"AG\",len(u_vec)),\n",
    "                            'ψ_u_T':res_AG[:,0],\n",
    "                            'ψ_u_T_low':res_AG[:,0] - res_AG[:,1],\n",
    "                            'ψ_u_T_up':res_AG[:,0] + res_AG[:,1],\n",
    "                            'V_u_T':res_AG[:,2],\n",
    "                            'V_u_T_low':res_AG[:,2] - res_AG[:,3] ,\n",
    "                            'V_u_T_up':res_AG[:,2] + res_AG[:,3] }\n",
    "                            )\n",
    "        ψ_V_MC_ES = pd.DataFrame({'u':u_vec,\n",
    "                            'strategy':np.repeat(\"ES\",len(u_vec)),\n",
    "                            'ψ_u_T':res_ES[:,0],\n",
    "                            'ψ_u_T_low':res_ES[:,0] - res_ES[:,1],\n",
    "                            'ψ_u_T_up':res_ES[:,0] + res_ES[:,1],\n",
    "                            'V_u_T':res_ES[:,2],\n",
    "                            'V_u_T_low':res_ES[:,2] - res_ES[:,3] ,\n",
    "                            'V_u_T_up':res_ES[:,2] + res_ES[:,3] }\n",
    "                            )\n",
    "\n",
    "        ψ_V_MC_temp = pd.concat([ψ_V_MC_AG, ψ_V_MC_ES], ignore_index=True)\n",
    "        ψ_V_MC_temp['p'] = np.repeat(p, 2 * len(u_vec))\n",
    "        ψ_V_MC_temp['t'] = np.repeat(t, 2 * len(u_vec))\n",
    "        ψ_V_MC_df = pd.concat([ψ_V_MC_df, ψ_V_MC_temp])\n",
    "ψ_V_MC_df"
   ]
  },
  {
   "cell_type": "code",
   "execution_count": null,
   "metadata": {},
   "outputs": [],
   "source": [
    "p, t = p_seq[2], t_seq[2]\n",
    "for p in p_seq:\n",
    "    subset_AG_df = V_AG_df[(V_AG_df['t'] == t) & (V_AG_df['p'] == p)]\n",
    "    subset_ES = ψ_V_MC_df[(ψ_V_MC_df['t'] == t) & (ψ_V_MC_df['p'] == p) & (ψ_V_MC_df['strategy'] == \"ES\") ]\n",
    "    subset_AG_df, subset_ES\n",
    "    plt.clf()\n",
    "    plt.plot(u_vec / 1e6 , (subset_AG_df.V_T - u_vec)/ 1e6, '-', label = '$\\widehat{V}(u,2w) - u$', linestyle = 'dashed', color = 'k', linewidth=1)\n",
    "    plt.plot(u_vec / 1e6, (subset_ES.V_u_T - u_vec)/ 1e6, linestyle = 'dotted', label = '$\\widehat{V}_{ES}(u,2w) - u$', color = 'k', linewidth=1)\n",
    "    plt.fill_between(u_vec/ 1e6, (subset_ES['V_u_T_low'].values -u_vec)/ 1e6, \n",
    "                     (subset_ES['V_u_T_up'].values -u_vec)/ 1e6, alpha=0.2, color = 'grey')\n",
    "    plt.xlabel('u (initial wealth in millions of USD)', fontsize = fontsize_axes)\n",
    "    plt.title('Expected profit (in millions of USD)', fontsize = fontsize_axes)\n",
    "    plt.tick_params(labelsize=fontsize_ticker)\n",
    "    plt.legend(fontsize=fontsize_ticker)\n",
    "    plt.savefig(\"../Figures/comparison_V_ES\"+str(np.int(p*100))+\".pdf\", bbox_inches='tight')"
   ]
  },
  {
   "cell_type": "code",
   "execution_count": null,
   "metadata": {},
   "outputs": [],
   "source": [
    "p, t = p_seq[0], t_seq[2]\n",
    "for p in p_seq:\n",
    "    \n",
    "    subset_AG_df = rp_AG_df[(V_AG_df['t'] == t) & (rp_AG_df['p'] == p)]\n",
    "    subset_ES = ψ_V_MC_df[(ψ_V_MC_df['t'] == t) & (ψ_V_MC_df['p'] == p) & (ψ_V_MC_df['strategy'] == \"ES\") ]\n",
    "    plt.clf()\n",
    "    plt.plot(u_vec / 1e6 , subset_AG_df.ψ_T, '-', label = '$\\widehat{\\psi}(u,2w)$', linestyle = 'dashed', color = 'k', linewidth=1)\n",
    "    plt.plot(u_vec / 1e6, subset_ES.ψ_u_T, linestyle = 'dotted', label = '$\\widehat{\\psi}_{ES}(u,2w)$', color = 'k', linewidth=1)\n",
    "    plt.fill_between(u_vec/ 1e6, subset_ES['ψ_u_T_up'].values, \n",
    "    subset_ES['ψ_u_T_low'].values, alpha=0.2, color = 'grey')\n",
    "    plt.xlabel('u (initial wealth in millions of USD)', fontsize = fontsize_axes)\n",
    "    plt.title('Expected profit (in millions of USD)', fontsize = fontsize_axes)\n",
    "    plt.tick_params(labelsize=fontsize_ticker)\n",
    "    plt.legend(fontsize=fontsize_ticker)\n",
    "    plt.savefig(\"../Figures/comparison_rp_ES\"+str(np.int(p*100))+\".pdf\", bbox_inches='tight')"
   ]
  }
 ],
 "metadata": {
  "kernelspec": {
   "display_name": "Python 3",
   "language": "python",
   "name": "python3"
  },
  "language_info": {
   "codemirror_mode": {
    "name": "ipython",
    "version": 3
   },
   "file_extension": ".py",
   "mimetype": "text/x-python",
   "name": "python",
   "nbconvert_exporter": "python",
   "pygments_lexer": "ipython3",
   "version": "3.7.7"
  }
 },
 "nbformat": 4,
 "nbformat_minor": 4
}
