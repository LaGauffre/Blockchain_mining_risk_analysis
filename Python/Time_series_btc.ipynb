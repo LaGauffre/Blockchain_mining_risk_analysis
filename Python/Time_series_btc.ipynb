{
 "cells": [
  {
   "cell_type": "code",
   "execution_count": 1,
   "metadata": {},
   "outputs": [],
   "source": [
    "%config InlineBackend.figure_format = 'retina'\n",
    "%run -i ./revenue_protocol.py\n",
    "%run -i ./revenue_selfish.py\n",
    "import plotly.express as px\n",
    "\n",
    "# Importation of the time series\n",
    "π_BTC_data = pd.read_csv(\"BTC_USD_2013-10-01_2020-05-23-CoinDesk.csv\")\n",
    "tW_data = pd.read_csv(\"elec_consumption_BTC_CBECI.csv\")"
   ]
  },
  {
   "cell_type": "code",
   "execution_count": null,
   "metadata": {},
   "outputs": [],
   "source": []
  }
 ],
 "metadata": {
  "kernelspec": {
   "display_name": "Python 3",
   "language": "python",
   "name": "python3"
  },
  "language_info": {
   "codemirror_mode": {
    "name": "ipython",
    "version": 3
   },
   "file_extension": ".py",
   "mimetype": "text/x-python",
   "name": "python",
   "nbconvert_exporter": "python",
   "pygments_lexer": "ipython3",
   "version": "3.7.7"
  }
 },
 "nbformat": 4,
 "nbformat_minor": 4
}
